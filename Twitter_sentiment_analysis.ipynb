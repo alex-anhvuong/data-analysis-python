{
  "nbformat": 4,
  "nbformat_minor": 0,
  "metadata": {
    "colab": {
      "name": "Twitter-sentiment-analysis.ipynb",
      "provenance": [],
      "authorship_tag": "ABX9TyMF1dE06ANm0dzzlOwlzSAB",
      "include_colab_link": true
    },
    "kernelspec": {
      "name": "python3",
      "display_name": "Python 3"
    },
    "language_info": {
      "name": "python"
    }
  },
  "cells": [
    {
      "cell_type": "markdown",
      "metadata": {
        "id": "view-in-github",
        "colab_type": "text"
      },
      "source": [
        "<a href=\"https://colab.research.google.com/github/alex-anhvuong/data-analysis-python/blob/main/Twitter_sentiment_analysis.ipynb\" target=\"_parent\"><img src=\"https://colab.research.google.com/assets/colab-badge.svg\" alt=\"Open In Colab\"/></a>"
      ]
    },
    {
      "cell_type": "markdown",
      "metadata": {
        "id": "235f66yBN8B1"
      },
      "source": [
        "# Fetch data\n"
      ]
    },
    {
      "cell_type": "code",
      "metadata": {
        "colab": {
          "base_uri": "https://localhost:8080/"
        },
        "id": "9I28NUMwfjVc",
        "outputId": "f56d539f-f7c8-44ff-fa26-6dd73225bf3e"
      },
      "source": [
        "!pip install tweepy"
      ],
      "execution_count": 1,
      "outputs": [
        {
          "output_type": "stream",
          "text": [
            "Requirement already satisfied: tweepy in /usr/local/lib/python3.7/dist-packages (3.10.0)\n",
            "Requirement already satisfied: requests[socks]>=2.11.1 in /usr/local/lib/python3.7/dist-packages (from tweepy) (2.23.0)\n",
            "Requirement already satisfied: requests-oauthlib>=0.7.0 in /usr/local/lib/python3.7/dist-packages (from tweepy) (1.3.0)\n",
            "Requirement already satisfied: six>=1.10.0 in /usr/local/lib/python3.7/dist-packages (from tweepy) (1.15.0)\n",
            "Requirement already satisfied: certifi>=2017.4.17 in /usr/local/lib/python3.7/dist-packages (from requests[socks]>=2.11.1->tweepy) (2021.5.30)\n",
            "Requirement already satisfied: urllib3!=1.25.0,!=1.25.1,<1.26,>=1.21.1 in /usr/local/lib/python3.7/dist-packages (from requests[socks]>=2.11.1->tweepy) (1.24.3)\n",
            "Requirement already satisfied: chardet<4,>=3.0.2 in /usr/local/lib/python3.7/dist-packages (from requests[socks]>=2.11.1->tweepy) (3.0.4)\n",
            "Requirement already satisfied: idna<3,>=2.5 in /usr/local/lib/python3.7/dist-packages (from requests[socks]>=2.11.1->tweepy) (2.10)\n",
            "Requirement already satisfied: PySocks!=1.5.7,>=1.5.6; extra == \"socks\" in /usr/local/lib/python3.7/dist-packages (from requests[socks]>=2.11.1->tweepy) (1.7.1)\n",
            "Requirement already satisfied: oauthlib>=3.0.0 in /usr/local/lib/python3.7/dist-packages (from requests-oauthlib>=0.7.0->tweepy) (3.1.1)\n"
          ],
          "name": "stdout"
        }
      ]
    },
    {
      "cell_type": "code",
      "metadata": {
        "id": "NEVkVNNFfvpp"
      },
      "source": [
        "# General:\n",
        "import tweepy           # To consume Twitter's API\n",
        "import pandas as pd     # To handle data\n",
        "import numpy as np      # For number computing\n",
        "\n",
        "# For plotting and visualization:\n",
        "from IPython.display import display\n",
        "import matplotlib.pyplot as plt\n",
        "import seaborn as sns\n",
        "%matplotlib inline"
      ],
      "execution_count": 2,
      "outputs": []
    },
    {
      "cell_type": "code",
      "metadata": {
        "colab": {
          "base_uri": "https://localhost:8080/"
        },
        "id": "MedES7nkfvlp",
        "outputId": "b373c25f-b05f-44e9-d036-15672b8f6e52"
      },
      "source": [
        "!pip install credentials"
      ],
      "execution_count": 3,
      "outputs": [
        {
          "output_type": "stream",
          "text": [
            "Collecting credentials\n",
            "  Downloading https://files.pythonhosted.org/packages/45/d6/e0555289e0139895366dd67f6b000c6834fcba84f7728a93f95de18440f9/credentials-1.1-py2.py3-none-any.whl\n",
            "Installing collected packages: credentials\n",
            "Successfully installed credentials-1.1\n"
          ],
          "name": "stdout"
        }
      ]
    },
    {
      "cell_type": "code",
      "metadata": {
        "id": "0F-94XBciCRS"
      },
      "source": [
        "# We import our access keys:\n",
        "from credentials import *    # This will allow us to use the keys as variables\n",
        "\n",
        "# API's setup:\n",
        "def twitter_setup():\n",
        "    \"\"\"\n",
        "    Utility function to setup the Twitter's API\n",
        "    with our access keys provided.\n",
        "    \"\"\"\n",
        "    # Authentication and access using keys:\n",
        "    auth = tweepy.OAuthHandler(CONSUMER_KEY, CONSUMER_SECRET)\n",
        "    auth.set_access_token(ACCESS_TOKEN, ACCESS_SECRET)\n",
        "\n",
        "    # Return API with authentication:\n",
        "    api = tweepy.API(auth)\n",
        "    return api"
      ],
      "execution_count": 5,
      "outputs": []
    },
    {
      "cell_type": "code",
      "metadata": {
        "colab": {
          "base_uri": "https://localhost:8080/"
        },
        "id": "kQb1WHVaKmYq",
        "outputId": "aa56b1c9-56c7-44cc-ee7c-0551084cc1f6"
      },
      "source": [
        "# We create an extractor object:\n",
        "extractor = twitter_setup()\n",
        "\n",
        "query = \"@JoeBiden\"\n",
        "tweets = []\n",
        "\n",
        "# Search for #JoeBiden\n",
        "for tweet in tweepy.Cursor(extractor.search, q=query, count = 100).items():\n",
        "    tweets.append(tweet)\n",
        "\n",
        "# # We print the most recent 5 tweets:\n",
        "print(\"5 recent tweets:\\n\")\n",
        "for tweet in tweets[:5]:\n",
        "    print(tweet.created_at)\n",
        "    print()"
      ],
      "execution_count": 6,
      "outputs": [
        {
          "output_type": "stream",
          "text": [
            "5 recent tweets:\n",
            "\n",
            "2021-06-28 01:07:22\n",
            "\n",
            "2021-06-28 01:06:38\n",
            "\n",
            "2021-06-28 01:03:29\n",
            "\n",
            "2021-06-28 01:03:08\n",
            "\n",
            "2021-06-28 01:02:17\n",
            "\n"
          ],
          "name": "stdout"
        }
      ]
    },
    {
      "cell_type": "code",
      "metadata": {
        "colab": {
          "base_uri": "https://localhost:8080/"
        },
        "id": "7HV5RXf4NFQu",
        "outputId": "799ea748-fd93-4f03-a725-c7caad4434fc"
      },
      "source": [
        "# https://developer.twitter.com/en/docs/twitter-api/v1/data-dictionary/object-model/tweet\n",
        "print(\"Content of 5 recent tweets:\\n\")\n",
        "for tweet in tweets[:5]:\n",
        "    print(tweet.text)\n",
        "    print(\"----------------------\")"
      ],
      "execution_count": 9,
      "outputs": [
        {
          "output_type": "stream",
          "text": [
            "Content of 5 recent tweets:\n",
            "\n",
            "#JoeBiden is so slow it takes him an hour and half to watch \"60 Minutes\" https://t.co/NErasBtFuP\n",
            "----------------------\n",
            "Just here to bang t-shirt\n",
            "Available on Amazon\n",
            "https://t.co/i3QJpbH9hJ\n",
            "\n",
            "#4thofjuly #independenceday #usa #america… https://t.co/mUp0N1xmot\n",
            "----------------------\n",
            "RT @andykupf: Biden’s gotten more than his fair share of criticism, so some perspective\n",
            "\n",
            "Joe and Jill\n",
            "\n",
            "Climbed Capitol Hill\n",
            "\n",
            "To bring back…\n",
            "----------------------\n",
            "RT @DrEstella: .@POTUS @JoeBiden #JoeBiden hahaha 😝 even to the meeting with #PutinBidenSummit @KremlinRussia_E you take tour cheat cards!…\n",
            "----------------------\n",
            "RT @andykupf: Biden’s gotten more than his fair share of criticism, so some perspective\n",
            "\n",
            "Joe and Jill\n",
            "\n",
            "Climbed Capitol Hill\n",
            "\n",
            "To bring back…\n",
            "----------------------\n"
          ],
          "name": "stdout"
        }
      ]
    },
    {
      "cell_type": "markdown",
      "metadata": {
        "id": "ge_StjVYN3Ut"
      },
      "source": [
        "# Create dataframe\n"
      ]
    },
    {
      "cell_type": "code",
      "metadata": {
        "colab": {
          "base_uri": "https://localhost:8080/",
          "height": 363
        },
        "id": "qBrJWX2JN3Hw",
        "outputId": "9487d4a9-a085-4cb4-dc18-bd67397e1af9"
      },
      "source": [
        "# We create a pandas dataframe as follows:\n",
        "data = pd.DataFrame(data=[tweet.text for tweet in tweets], columns=['Tweets'])\n",
        "\n",
        "# We display the first 10 elements of the dataframe:\n",
        "display(data.head(10))"
      ],
      "execution_count": 10,
      "outputs": [
        {
          "output_type": "display_data",
          "data": {
            "text/html": [
              "<div>\n",
              "<style scoped>\n",
              "    .dataframe tbody tr th:only-of-type {\n",
              "        vertical-align: middle;\n",
              "    }\n",
              "\n",
              "    .dataframe tbody tr th {\n",
              "        vertical-align: top;\n",
              "    }\n",
              "\n",
              "    .dataframe thead th {\n",
              "        text-align: right;\n",
              "    }\n",
              "</style>\n",
              "<table border=\"1\" class=\"dataframe\">\n",
              "  <thead>\n",
              "    <tr style=\"text-align: right;\">\n",
              "      <th></th>\n",
              "      <th>Tweets</th>\n",
              "    </tr>\n",
              "  </thead>\n",
              "  <tbody>\n",
              "    <tr>\n",
              "      <th>0</th>\n",
              "      <td>#JoeBiden is so slow it takes him an hour and ...</td>\n",
              "    </tr>\n",
              "    <tr>\n",
              "      <th>1</th>\n",
              "      <td>Just here to bang t-shirt\\nAvailable on Amazon...</td>\n",
              "    </tr>\n",
              "    <tr>\n",
              "      <th>2</th>\n",
              "      <td>RT @andykupf: Biden’s gotten more than his fai...</td>\n",
              "    </tr>\n",
              "    <tr>\n",
              "      <th>3</th>\n",
              "      <td>RT @DrEstella: .@POTUS @JoeBiden #JoeBiden hah...</td>\n",
              "    </tr>\n",
              "    <tr>\n",
              "      <th>4</th>\n",
              "      <td>RT @andykupf: Biden’s gotten more than his fai...</td>\n",
              "    </tr>\n",
              "    <tr>\n",
              "      <th>5</th>\n",
              "      <td>RT @Antonio78158191: Que pronto sustituyó #Joe...</td>\n",
              "    </tr>\n",
              "    <tr>\n",
              "      <th>6</th>\n",
              "      <td>RT @casalsbate: El hombre empezó a calentar lo...</td>\n",
              "    </tr>\n",
              "    <tr>\n",
              "      <th>7</th>\n",
              "      <td>#JoeBiden is #Pro_Human_Rights\\nJoe Biden warn...</td>\n",
              "    </tr>\n",
              "    <tr>\n",
              "      <th>8</th>\n",
              "      <td>RT @andykupf: Biden’s gotten more than his fai...</td>\n",
              "    </tr>\n",
              "    <tr>\n",
              "      <th>9</th>\n",
              "      <td>RT @ayfaraho: الرئيس المقبل للولايات المتحدة ا...</td>\n",
              "    </tr>\n",
              "  </tbody>\n",
              "</table>\n",
              "</div>"
            ],
            "text/plain": [
              "                                              Tweets\n",
              "0  #JoeBiden is so slow it takes him an hour and ...\n",
              "1  Just here to bang t-shirt\\nAvailable on Amazon...\n",
              "2  RT @andykupf: Biden’s gotten more than his fai...\n",
              "3  RT @DrEstella: .@POTUS @JoeBiden #JoeBiden hah...\n",
              "4  RT @andykupf: Biden’s gotten more than his fai...\n",
              "5  RT @Antonio78158191: Que pronto sustituyó #Joe...\n",
              "6  RT @casalsbate: El hombre empezó a calentar lo...\n",
              "7  #JoeBiden is #Pro_Human_Rights\\nJoe Biden warn...\n",
              "8  RT @andykupf: Biden’s gotten more than his fai...\n",
              "9  RT @ayfaraho: الرئيس المقبل للولايات المتحدة ا..."
            ]
          },
          "metadata": {
            "tags": []
          }
        }
      ]
    },
    {
      "cell_type": "code",
      "metadata": {
        "colab": {
          "base_uri": "https://localhost:8080/"
        },
        "id": "JGcCDpTZOMCj",
        "outputId": "25e041be-ff45-4540-f18d-f605b012ad03"
      },
      "source": [
        "# Internal methods of a single tweet object:\n",
        "# dir() returns all properties and methods\n",
        "print(dir(tweets[0]))"
      ],
      "execution_count": 11,
      "outputs": [
        {
          "output_type": "stream",
          "text": [
            "['__class__', '__delattr__', '__dict__', '__dir__', '__doc__', '__eq__', '__format__', '__ge__', '__getattribute__', '__getstate__', '__gt__', '__hash__', '__init__', '__init_subclass__', '__le__', '__lt__', '__module__', '__ne__', '__new__', '__reduce__', '__reduce_ex__', '__repr__', '__setattr__', '__sizeof__', '__str__', '__subclasshook__', '__weakref__', '_api', '_json', 'author', 'contributors', 'coordinates', 'created_at', 'destroy', 'entities', 'extended_entities', 'favorite', 'favorite_count', 'favorited', 'geo', 'id', 'id_str', 'in_reply_to_screen_name', 'in_reply_to_status_id', 'in_reply_to_status_id_str', 'in_reply_to_user_id', 'in_reply_to_user_id_str', 'is_quote_status', 'lang', 'metadata', 'parse', 'parse_list', 'place', 'possibly_sensitive', 'retweet', 'retweet_count', 'retweeted', 'retweets', 'source', 'source_url', 'text', 'truncated', 'user']\n"
          ],
          "name": "stdout"
        }
      ]
    },
    {
      "cell_type": "code",
      "metadata": {
        "colab": {
          "base_uri": "https://localhost:8080/"
        },
        "id": "w5MpBUneOhfB",
        "outputId": "4fecf36d-9c93-4160-f595-9ffe5d5b75c7"
      },
      "source": [
        "# We print info from the first tweet:\n",
        "print(tweets[0].id)\n",
        "print(tweets[0].created_at)\n",
        "print(tweets[0].source)\n",
        "print(tweets[0].favorite_count)\n",
        "print(tweets[0].retweet_count)\n",
        "print(tweets[0].geo)\n",
        "print(tweets[0].coordinates)\n",
        "print(tweets[0].entities)"
      ],
      "execution_count": 12,
      "outputs": [
        {
          "output_type": "stream",
          "text": [
            "1409317468078854145\n",
            "2021-06-28 01:07:22\n",
            "Twitter Web App\n",
            "0\n",
            "0\n",
            "None\n",
            "None\n",
            "{'hashtags': [{'text': 'JoeBiden', 'indices': [0, 9]}], 'symbols': [], 'user_mentions': [], 'urls': [], 'media': [{'id': 1409317455651028998, 'id_str': '1409317455651028998', 'indices': [73, 96], 'media_url': 'http://pbs.twimg.com/media/E47mwk_WQAYcwkh.jpg', 'media_url_https': 'https://pbs.twimg.com/media/E47mwk_WQAYcwkh.jpg', 'url': 'https://t.co/NErasBtFuP', 'display_url': 'pic.twitter.com/NErasBtFuP', 'expanded_url': 'https://twitter.com/PunionOnion/status/1409317468078854145/photo/1', 'type': 'photo', 'sizes': {'thumb': {'w': 150, 'h': 150, 'resize': 'crop'}, 'small': {'w': 680, 'h': 425, 'resize': 'fit'}, 'large': {'w': 1280, 'h': 800, 'resize': 'fit'}, 'medium': {'w': 1200, 'h': 750, 'resize': 'fit'}}}]}\n"
          ],
          "name": "stdout"
        }
      ]
    },
    {
      "cell_type": "code",
      "metadata": {
        "id": "Jah5sYRtQTb5"
      },
      "source": [
        "# We add relevant data:\n",
        "data['len']  = np.array([len(tweet.text) for tweet in tweets])\n",
        "data['ID']   = np.array([tweet.id for tweet in tweets])\n",
        "data['Date'] = np.array([tweet.created_at for tweet in tweets])\n",
        "data['Source'] = np.array([tweet.source for tweet in tweets])\n",
        "data['Likes']  = np.array([tweet.favorite_count for tweet in tweets])\n",
        "data['RTs']    = np.array([tweet.retweet_count for tweet in tweets])"
      ],
      "execution_count": 14,
      "outputs": []
    },
    {
      "cell_type": "code",
      "metadata": {
        "colab": {
          "base_uri": "https://localhost:8080/",
          "height": 363
        },
        "id": "5zN2flNsQZuY",
        "outputId": "f5868b82-0ac0-456a-9924-04fd08a6bfe6"
      },
      "source": [
        "# Display of first 10 elements from dataframe:\n",
        "display(data.head(10))"
      ],
      "execution_count": 15,
      "outputs": [
        {
          "output_type": "display_data",
          "data": {
            "text/html": [
              "<div>\n",
              "<style scoped>\n",
              "    .dataframe tbody tr th:only-of-type {\n",
              "        vertical-align: middle;\n",
              "    }\n",
              "\n",
              "    .dataframe tbody tr th {\n",
              "        vertical-align: top;\n",
              "    }\n",
              "\n",
              "    .dataframe thead th {\n",
              "        text-align: right;\n",
              "    }\n",
              "</style>\n",
              "<table border=\"1\" class=\"dataframe\">\n",
              "  <thead>\n",
              "    <tr style=\"text-align: right;\">\n",
              "      <th></th>\n",
              "      <th>Tweets</th>\n",
              "      <th>len</th>\n",
              "      <th>ID</th>\n",
              "      <th>Date</th>\n",
              "      <th>Source</th>\n",
              "      <th>Likes</th>\n",
              "      <th>RTs</th>\n",
              "    </tr>\n",
              "  </thead>\n",
              "  <tbody>\n",
              "    <tr>\n",
              "      <th>0</th>\n",
              "      <td>#JoeBiden is so slow it takes him an hour and ...</td>\n",
              "      <td>96</td>\n",
              "      <td>1409317468078854145</td>\n",
              "      <td>2021-06-28 01:07:22</td>\n",
              "      <td>Twitter Web App</td>\n",
              "      <td>0</td>\n",
              "      <td>0</td>\n",
              "    </tr>\n",
              "    <tr>\n",
              "      <th>1</th>\n",
              "      <td>Just here to bang t-shirt\\nAvailable on Amazon...</td>\n",
              "      <td>137</td>\n",
              "      <td>1409317283093168130</td>\n",
              "      <td>2021-06-28 01:06:38</td>\n",
              "      <td>Twitter for Android</td>\n",
              "      <td>1</td>\n",
              "      <td>0</td>\n",
              "    </tr>\n",
              "    <tr>\n",
              "      <th>2</th>\n",
              "      <td>RT @andykupf: Biden’s gotten more than his fai...</td>\n",
              "      <td>139</td>\n",
              "      <td>1409316489396690946</td>\n",
              "      <td>2021-06-28 01:03:29</td>\n",
              "      <td>Twitter for iPad</td>\n",
              "      <td>0</td>\n",
              "      <td>27</td>\n",
              "    </tr>\n",
              "    <tr>\n",
              "      <th>3</th>\n",
              "      <td>RT @DrEstella: .@POTUS @JoeBiden #JoeBiden hah...</td>\n",
              "      <td>139</td>\n",
              "      <td>1409316400062205954</td>\n",
              "      <td>2021-06-28 01:03:08</td>\n",
              "      <td>Twitter for Android</td>\n",
              "      <td>0</td>\n",
              "      <td>23</td>\n",
              "    </tr>\n",
              "    <tr>\n",
              "      <th>4</th>\n",
              "      <td>RT @andykupf: Biden’s gotten more than his fai...</td>\n",
              "      <td>139</td>\n",
              "      <td>1409316187767513094</td>\n",
              "      <td>2021-06-28 01:02:17</td>\n",
              "      <td>Twitter for Android</td>\n",
              "      <td>0</td>\n",
              "      <td>27</td>\n",
              "    </tr>\n",
              "    <tr>\n",
              "      <th>5</th>\n",
              "      <td>RT @Antonio78158191: Que pronto sustituyó #Joe...</td>\n",
              "      <td>95</td>\n",
              "      <td>1409315664356065285</td>\n",
              "      <td>2021-06-28 01:00:12</td>\n",
              "      <td>Twitter for Android</td>\n",
              "      <td>0</td>\n",
              "      <td>63</td>\n",
              "    </tr>\n",
              "    <tr>\n",
              "      <th>6</th>\n",
              "      <td>RT @casalsbate: El hombre empezó a calentar lo...</td>\n",
              "      <td>140</td>\n",
              "      <td>1409315417336823808</td>\n",
              "      <td>2021-06-28 00:59:13</td>\n",
              "      <td>Twitter for Android</td>\n",
              "      <td>0</td>\n",
              "      <td>29</td>\n",
              "    </tr>\n",
              "    <tr>\n",
              "      <th>7</th>\n",
              "      <td>#JoeBiden is #Pro_Human_Rights\\nJoe Biden warn...</td>\n",
              "      <td>139</td>\n",
              "      <td>1409314469990256641</td>\n",
              "      <td>2021-06-28 00:55:28</td>\n",
              "      <td>Twitter Web App</td>\n",
              "      <td>1</td>\n",
              "      <td>0</td>\n",
              "    </tr>\n",
              "    <tr>\n",
              "      <th>8</th>\n",
              "      <td>RT @andykupf: Biden’s gotten more than his fai...</td>\n",
              "      <td>139</td>\n",
              "      <td>1409313915805306883</td>\n",
              "      <td>2021-06-28 00:53:15</td>\n",
              "      <td>Twitter for iPad</td>\n",
              "      <td>0</td>\n",
              "      <td>27</td>\n",
              "    </tr>\n",
              "    <tr>\n",
              "      <th>9</th>\n",
              "      <td>RT @ayfaraho: الرئيس المقبل للولايات المتحدة ا...</td>\n",
              "      <td>139</td>\n",
              "      <td>1409313052416167938</td>\n",
              "      <td>2021-06-28 00:49:50</td>\n",
              "      <td>Twitter Web App</td>\n",
              "      <td>0</td>\n",
              "      <td>2060</td>\n",
              "    </tr>\n",
              "  </tbody>\n",
              "</table>\n",
              "</div>"
            ],
            "text/plain": [
              "                                              Tweets  len  ...  Likes   RTs\n",
              "0  #JoeBiden is so slow it takes him an hour and ...   96  ...      0     0\n",
              "1  Just here to bang t-shirt\\nAvailable on Amazon...  137  ...      1     0\n",
              "2  RT @andykupf: Biden’s gotten more than his fai...  139  ...      0    27\n",
              "3  RT @DrEstella: .@POTUS @JoeBiden #JoeBiden hah...  139  ...      0    23\n",
              "4  RT @andykupf: Biden’s gotten more than his fai...  139  ...      0    27\n",
              "5  RT @Antonio78158191: Que pronto sustituyó #Joe...   95  ...      0    63\n",
              "6  RT @casalsbate: El hombre empezó a calentar lo...  140  ...      0    29\n",
              "7  #JoeBiden is #Pro_Human_Rights\\nJoe Biden warn...  139  ...      1     0\n",
              "8  RT @andykupf: Biden’s gotten more than his fai...  139  ...      0    27\n",
              "9  RT @ayfaraho: الرئيس المقبل للولايات المتحدة ا...  139  ...      0  2060\n",
              "\n",
              "[10 rows x 7 columns]"
            ]
          },
          "metadata": {
            "tags": []
          }
        }
      ]
    },
    {
      "cell_type": "markdown",
      "metadata": {
        "id": "IZCyLes2QjsC"
      },
      "source": [
        "# Analysis\n"
      ]
    },
    {
      "cell_type": "code",
      "metadata": {
        "colab": {
          "base_uri": "https://localhost:8080/"
        },
        "id": "UTyHqDzWQjOD",
        "outputId": "2604f78f-5ead-4330-fa1e-308f94ca4d10"
      },
      "source": [
        "# We extract the mean of lenghts:\n",
        "mean = np.mean(data['len'])\n",
        "\n",
        "print(\"The lenght's average in tweets: {}\".format(mean))"
      ],
      "execution_count": 16,
      "outputs": [
        {
          "output_type": "stream",
          "text": [
            "The lenght's average in tweets: 128.31002995105558\n"
          ],
          "name": "stdout"
        }
      ]
    },
    {
      "cell_type": "code",
      "metadata": {
        "colab": {
          "base_uri": "https://localhost:8080/"
        },
        "id": "kRzv001oQ1fp",
        "outputId": "c0db1348-2ac4-4b9f-a5cd-43aaee2a6bdf"
      },
      "source": [
        "# We extract the tweet with the most like and with the most retweets\n",
        "\n",
        "fav_max = np.max(data['Likes'])\n",
        "rt_max  = np.max(data['RTs'])\n",
        "\n",
        "fav = data[data.Likes == fav_max].index[0]\n",
        "rt  = data[data.RTs == rt_max].index[0]\n",
        "\n",
        "# Max FAVs:\n",
        "print(\"The tweet with more likes is: \\n{}\".format(data['Tweets'][fav]))\n",
        "print(\"Number of likes: {}\".format(fav_max))\n",
        "print(\"{} characters.\\n\".format(data['len'][fav]))\n",
        "\n",
        "# Max RTs:\n",
        "print(\"The tweet with more retweets is: \\n{}\".format(data['Tweets'][rt]))\n",
        "print(\"Number of retweets: {}\".format(rt_max))\n",
        "print(\"{} characters.\\n\".format(data['len'][rt]))"
      ],
      "execution_count": 17,
      "outputs": [
        {
          "output_type": "stream",
          "text": [
            "The tweet with more likes is: \n",
            "Ce #JoeBiden me plaît de plus en plus . 👍😉 https://t.co/r99EiHgr6k\n",
            "Number of likes: 859\n",
            "66 characters.\n",
            "\n",
            "The tweet with more retweets is: \n",
            "RT @JohnHPiette: America Assembled!🇺🇸🎉\n",
            "\n",
            "@JoeBiden @KamalaHarris @BarackObama \n",
            "@ChrisEvans  @MarkRuffalo @RobertDowneyJr @brielarson @AOC @s…\n",
            "Number of retweets: 26866\n",
            "140 characters.\n",
            "\n"
          ],
          "name": "stdout"
        }
      ]
    },
    {
      "cell_type": "code",
      "metadata": {
        "id": "pXvZShi7RUBa"
      },
      "source": [
        "tlen = pd.Series(data=data['len'].values, index=data['Date'])\n",
        "tfav = pd.Series(data=data['Likes'].values, index=data['Date'])\n",
        "tret = pd.Series(data=data['RTs'].values, index=data['Date'])"
      ],
      "execution_count": 18,
      "outputs": []
    },
    {
      "cell_type": "code",
      "metadata": {
        "colab": {
          "base_uri": "https://localhost:8080/",
          "height": 285
        },
        "id": "1cI1f_9CRXsk",
        "outputId": "5b45f0a5-631a-4b8c-ece7-30104abb681c"
      },
      "source": [
        "tlen.plot(figsize=(16,4), color='r');"
      ],
      "execution_count": 19,
      "outputs": [
        {
          "output_type": "display_data",
          "data": {
            "image/png": "[encoded data removed]",
            "text/plain": [
              "<Figure size 1152x288 with 1 Axes>"
            ]
          },
          "metadata": {
            "tags": [],
            "needs_background": "light"
          }
        }
      ]
    },
    {
      "cell_type": "code",
      "metadata": {
        "colab": {
          "base_uri": "https://localhost:8080/",
          "height": 285
        },
        "id": "9_qv5i7CRfZR",
        "outputId": "f94e2547-2390-4cdb-f0da-66c6115c44b8"
      },
      "source": [
        "# Likes vs retweets visualization:\n",
        "tfav.plot(figsize=(16,4), label=\"Likes\", legend=True)\n",
        "tret.plot(figsize=(16,4), label=\"Retweets\", legend=True);"
      ],
      "execution_count": 21,
      "outputs": [
        {
          "output_type": "display_data",
          "data": {
            "image/png": "[encoded data removed]",
            "text/plain": [
              "<Figure size 1152x288 with 1 Axes>"
            ]
          },
          "metadata": {
            "tags": [],
            "needs_background": "light"
          }
        }
      ]
    },
    {
      "cell_type": "code",
      "metadata": {
        "colab": {
          "base_uri": "https://localhost:8080/"
        },
        "id": "N401lZ4CRtnZ",
        "outputId": "24f7fb31-fb9b-4dd0-d7b9-621098980045"
      },
      "source": [
        "# We obtain all possible sources:\n",
        "sources = []\n",
        "for source in data['Source']:\n",
        "    if source not in sources:\n",
        "        sources.append(source)\n",
        "\n",
        "# We print sources list:\n",
        "print(\"Creation of content sources:\")\n",
        "for source in sources:\n",
        "    print(\"* {}\".format(source))"
      ],
      "execution_count": 22,
      "outputs": [
        {
          "output_type": "stream",
          "text": [
            "Creation of content sources:\n",
            "* Twitter Web App\n",
            "* Twitter for Android\n",
            "* Twitter for iPad\n",
            "* Twitter for iPhone\n",
            "* TweetDeck\n",
            "* V Droider\n",
            "* GroundNews\n",
            "* Ralph1\n",
            "* IFTTT\n",
            "* Hootsuite Inc.\n",
            "* WordPress.com\n",
            "* Developer_RTBot\n",
            "* arsh-twitter-bot\n",
            "* LaterMedia\n",
            "* Twitterrific for iOS\n",
            "* Zoho Social\n",
            "* loveisnottourismSP\n",
            "* Missinglettr\n",
            "* dlvr.it\n",
            "* Stream App 1\n",
            "* TweetCaster for Android\n",
            "* Blog2Social APP\n",
            "* Instagram\n",
            "* 1dfc\n",
            "* Eco Promotions\n",
            "* Bills Bot\n",
            "* motivationQbot\n",
            "* MeetEdgar\n",
            "* WhistleBlower Information\n",
            "* My1stNewApp\n",
            "* Rob Otto Bot Twitter\n",
            "* dbkrootbot\n",
            "* Rosetta App\n",
            "* fluttbot\n",
            "* retweet LiberalHypocrisy\n",
            "* VP Trusted News\n",
            "* The Global Herald\n",
            "* Twitter Media Studio - LiveCut\n",
            "* Tweecha Lite\n",
            "* twittbot.net\n",
            "* poc_tweet_bot\n",
            "* Continuous Learning\n",
            "* Hocalwire Social Share\n",
            "* SmartNews | スマートニュース\n",
            "* Marokko.nl\n",
            "* Mark the Bot \n",
            "* retweer master\n",
            "* Insane Dev Bot\n",
            "* _funbot\n",
            "* Bot697\n",
            "* Web design Retweet\n",
            "* Coding NinjaBOT\n",
            "* Shore News Network\n",
            "* francisbean\n",
            "* JGio Bot\n",
            "* enterprise-apps-bot\n",
            "* Retweetteuse\n",
            "* Woofy Social Media Scheduler\n",
            "* Miamisecretpapers BOT\n",
            "* Paper.li\n",
            "* Cal Fact Check\n",
            "* 30days30sites\n",
            "* Pythonista Bot\n",
            "* python_expert\n",
            "* LeetcodeBot\n",
            "* twitter-bot-fab\n",
            "* News RT Bot SL\n",
            "* TeluguISM\n",
            "* Targeted Learning\n",
            "* viznews\n",
            "* Zapier.com\n",
            "* Talon Android\n",
            "* Oneindia Hindi\n",
            "* Article Tweetbot\n",
            "* tech-tweet487\n",
            "* 100 days retweet bot\n",
            "* nertiqatja\n",
            "* Test app123345512\n",
            "* Buffer\n",
            "* FixAmerica2020\n",
            "* abcdBOT\n",
            "* LuckyWillyV2\n",
            "* Quotes -Bot\n",
            "* Emplifi\n",
            "* DeepFakeNews_v1\n",
            "* Allyship\n",
            "* FS Poster\n",
            "* Fenix for iOS\n",
            "* Klix.ba web\n",
            "* jane_the_bot\n",
            "* Fan Page App\n",
            "* Auto Publicador Twitter\n",
            "* SciBot\n",
            "* Twitter Media Studio\n",
            "* ETRetail.com\n",
            "* Yuzzit Pro\n",
            "* 2ndBot\n",
            "* Agorapulse app\n",
            "* WP to Twitter J32 Only\n",
            "* auto is the only way it can be \n",
            "* forRetweeting\n",
            "* PurpleBot123\n",
            "* SEMrush Social Media Tool\n",
            "* Carona Updates\n",
            "* Revue\n",
            "* Cyber Security Feed\n",
            "* chirr.app\n",
            "* DP-EN - Twitter Auto-Posting\n",
            "* Oneindia News Eng\n",
            "* azuerBot\n",
            "* Cronachedellacampania\n",
            "* TweetBotSec\n",
            "* Diversityup\n",
            "* LinkedIn\n",
            "* cephalopodluke2\n",
            "* Revive Social App\n",
            "* twitter-nodejs-bot\n",
            "* Calcaware\n",
            "* BotNew\n",
            "* Botboidiodido\n",
            "* SocialFlow\n",
            "* TweetFit for KaiOS\n",
            "* Hissyfit\n",
            "* BizSales247 Bot\n",
            "* SocialNewsDesk\n",
            "* Nonli\n",
            "* TF Trusted News\n",
            "* News Users\n",
            "* Tweetbot for Mac\n",
            "* Echofon\n",
            "* RadioLondres\n",
            "* blitz-fundraising-prototype-bot\n",
            "* Periscope\n",
            "* Spreaker\n",
            "* Sprout Social\n",
            "* One News Page\n",
            "* farmerbill_1\n",
            "* Tweepsmap\n",
            "* HW news english\n",
            "* OnlyWire App\n",
            "* GT_Backend\n",
            "* Nouman Ibn Saud Al-Mashreqi\n",
            "* Mhmm\n",
            "* BigDonT_decrees_part_Deux\n",
            "* RWRapplication\n",
            "* Microsoft Power Platform\n",
            "* neokohn\n",
            "* OS X\n",
            "* CoderRetweet\n",
            "* xael bot\n",
            "* Echofon  Android\n",
            "* LeftyBotty\n",
            "* Outfy Inc\n",
            "* SNPD\n",
            "* Patent Masks\n",
            "* shartrtbot\n",
            "* kickstarter_engagement_mku\n",
            "* TheDeveloperBot\n",
            "* Pixcelerator\n",
            "* codedailybot\n",
            "* UberSocial for Android\n",
            "* thinkpraybot\n",
            "* Energy Referral\n",
            "* betterjobsearch\n",
            "* Jordan Ritchie\n",
            "* SocialPilot.co\n",
            "* FinTechPRO.org-theBot\n",
            "* education-bot\n",
            "* RkDemoApp1\n",
            "* Wildmoka\n",
            "* klinzx\n",
            "* Goodreturns Tamil\n",
            "* boc.vip\n",
            "* rebelwhitehouse\n",
            "* Twemzy1\n",
            "* #100DaysOf2020\n",
            "* H.P. Lovecraft Bot\n",
            "* ChanakyaForum\n",
            "* stepcounter_tracker\n",
            "* joongangilbo\n",
            "* SocialRabbit Plugin\n",
            "* Flying Eze\n",
            "* immigration news 24\n",
            "* VOA Twitter App\n",
            "* Tweetbot for iΟS\n",
            "* Twitter for Mac\n",
            "* Mailchimp\n",
            "* PostPickr\n",
            "* Etsy\n",
            "* PellesTest\n",
            "* learningcoding\n",
            "* CybazeSocial\n",
            "* The Kashmir Pulse\n",
            "* The Domain Bot\n",
            "* Qaumi Awaz\n",
            "* newolivia\n",
            "* The Social Jukebox\n",
            "* Seket Aanru LVLII\n",
            "* bitcoinagile\n",
            "* Green New Deal RT\n",
            "* Apple Retweet Bot\n",
            "* mlprt\n",
            "* djpone\n",
            "* Libsyn On-Publish\n",
            "* waterbot2h0\n",
            "* PolicyFails\n",
            "* Besocy_Oficial\n",
            "* devRoboto\n",
            "* Tech-bot_487\n",
            "* 3dharvester\n",
            "* App Political Hispanic\n",
            "* IndiaPost\n",
            "* Bot Libre!\n",
            "* Oneindia Bengali\n",
            "* 92 News HD\n",
            "* Social Mediaset \n",
            "* Mirage News Posts\n",
            "* KitsuneLiveBot\n",
            "* Swirling Pixels\n",
            "* StreamHelperApp\n",
            "* Bitrich bot\n",
            "* JackhammerBot\n",
            "* Site Agência CMA\n",
            "* Personal Retweets\n",
            "* atique-ahmed\n",
            "* Etus Brasil\n",
            "* SocialGest\n",
            "* Yoyocial.News\n",
            "* startzai rt\n",
            "* WPToTwty\n",
            "* Minecraft_Retweeter\n",
            "* Model pics Rt\n",
            "* Wies\n",
            "* Twitter for Advertisers.\n",
            "* Naattuvartha\n",
            "* fizzin\n",
            "* rimiti\n",
            "* nicholas55\n",
            "* zimby\n",
            "* Fenix 2\n",
            "* DefconEvents\n",
            "* CybotMoshai\n",
            "* Doped Ape\n",
            "* Indie Dev Goodness\n",
            "* Metricool\n",
            "* SocialBee.io v2\n",
            "* Ash.Human\n",
            "* Bird Netting\n",
            "* The first bot lesson\n",
            "* Rosia Bot\n",
            "* Blogsicilia\n",
            "* heise Tweetfeeds\n",
            "* Reveal House Press\n",
            "* Оwly\n",
            "* orrnov\n",
            "* App roaring brain\n",
            "* BotForEquality\n",
            "* klatsch-tratsch.de\n",
            "* Echobox\n",
            "* windfair.net\n",
            "* PyScale\n",
            "* Street Art Retweet\n",
            "* graffiti_bot\n",
            "* bot-t001\n",
            "* josh_bot_python\n",
            "* LovingBlogsAPI\n",
            "* Loomly\n"
          ],
          "name": "stdout"
        }
      ]
    },
    {
      "cell_type": "code",
      "metadata": {
        "colab": {
          "base_uri": "https://localhost:8080/",
          "height": 800
        },
        "id": "A5yAYEktR_1r",
        "outputId": "33715c26-9609-4556-f451-90de062accc0"
      },
      "source": [
        "# We create a numpy vector mapped to labels:\n",
        "percent = np.zeros(len(sources))\n",
        "\n",
        "for source in data['Source']:\n",
        "    for index in range(len(sources)):\n",
        "        if source == sources[index]:\n",
        "            percent[index] += 1\n",
        "            pass\n",
        "\n",
        "percent /= 100\n",
        "\n",
        "# Pie chart:\n",
        "pie_chart = pd.Series(percent, index=sources, name='Sources')\n",
        "pie_chart.plot.pie(fontsize=11, autopct='%.2f', figsize=(6, 6));"
      ],
      "execution_count": 23,
      "outputs": [
        {
          "output_type": "stream",
          "text": [
            "/usr/local/lib/python3.7/dist-packages/matplotlib/backends/backend_agg.py:214: RuntimeWarning: Glyph 12473 missing from current font.\n",
            "  font.set_text(s, 0.0, flags=flags)\n",
            "/usr/local/lib/python3.7/dist-packages/matplotlib/backends/backend_agg.py:214: RuntimeWarning: Glyph 12510 missing from current font.\n",
            "  font.set_text(s, 0.0, flags=flags)\n",
            "/usr/local/lib/python3.7/dist-packages/matplotlib/backends/backend_agg.py:214: RuntimeWarning: Glyph 12540 missing from current font.\n",
            "  font.set_text(s, 0.0, flags=flags)\n",
            "/usr/local/lib/python3.7/dist-packages/matplotlib/backends/backend_agg.py:214: RuntimeWarning: Glyph 12488 missing from current font.\n",
            "  font.set_text(s, 0.0, flags=flags)\n",
            "/usr/local/lib/python3.7/dist-packages/matplotlib/backends/backend_agg.py:214: RuntimeWarning: Glyph 12491 missing from current font.\n",
            "  font.set_text(s, 0.0, flags=flags)\n",
            "/usr/local/lib/python3.7/dist-packages/matplotlib/backends/backend_agg.py:214: RuntimeWarning: Glyph 12517 missing from current font.\n",
            "  font.set_text(s, 0.0, flags=flags)\n",
            "/usr/local/lib/python3.7/dist-packages/matplotlib/backends/backend_agg.py:183: RuntimeWarning: Glyph 12473 missing from current font.\n",
            "  font.set_text(s, 0, flags=flags)\n",
            "/usr/local/lib/python3.7/dist-packages/matplotlib/backends/backend_agg.py:183: RuntimeWarning: Glyph 12510 missing from current font.\n",
            "  font.set_text(s, 0, flags=flags)\n",
            "/usr/local/lib/python3.7/dist-packages/matplotlib/backends/backend_agg.py:183: RuntimeWarning: Glyph 12540 missing from current font.\n",
            "  font.set_text(s, 0, flags=flags)\n",
            "/usr/local/lib/python3.7/dist-packages/matplotlib/backends/backend_agg.py:183: RuntimeWarning: Glyph 12488 missing from current font.\n",
            "  font.set_text(s, 0, flags=flags)\n",
            "/usr/local/lib/python3.7/dist-packages/matplotlib/backends/backend_agg.py:183: RuntimeWarning: Glyph 12491 missing from current font.\n",
            "  font.set_text(s, 0, flags=flags)\n",
            "/usr/local/lib/python3.7/dist-packages/matplotlib/backends/backend_agg.py:183: RuntimeWarning: Glyph 12517 missing from current font.\n",
            "  font.set_text(s, 0, flags=flags)\n"
          ],
          "name": "stderr"
        },
        {
          "output_type": "display_data",
          "data": {
            "image/png": "[encoded data removed]",
            "text/plain": [
              "<Figure size 432x432 with 1 Axes>"
            ]
          },
          "metadata": {
            "tags": []
          }
        }
      ]
    },
    {
      "cell_type": "markdown",
      "metadata": {
        "id": "iSd7Ql8dSblm"
      },
      "source": [
        "# Sentiment analysis\n"
      ]
    },
    {
      "cell_type": "code",
      "metadata": {
        "colab": {
          "base_uri": "https://localhost:8080/"
        },
        "id": "C5peopGKSa2u",
        "outputId": "97d5acc0-eca1-4901-866a-cb0ee52f64cb"
      },
      "source": [
        "!pip install TextBlob"
      ],
      "execution_count": 24,
      "outputs": [
        {
          "output_type": "stream",
          "text": [
            "Requirement already satisfied: TextBlob in /usr/local/lib/python3.7/dist-packages (0.15.3)\n",
            "Requirement already satisfied: nltk>=3.1 in /usr/local/lib/python3.7/dist-packages (from TextBlob) (3.2.5)\n",
            "Requirement already satisfied: six in /usr/local/lib/python3.7/dist-packages (from nltk>=3.1->TextBlob) (1.15.0)\n"
          ],
          "name": "stdout"
        }
      ]
    },
    {
      "cell_type": "code",
      "metadata": {
        "id": "0GdijiNoSgUr"
      },
      "source": [
        "from textblob import TextBlob\n",
        "import re\n",
        "\n",
        "def clean_tweet(tweet):\n",
        "    '''\n",
        "    Utility function to clean the text in a tweet by removing\n",
        "    links and special characters using regex.\n",
        "    '''\n",
        "    return ' '.join(re.sub(\"(@[A-Za-z0-9]+)|([^0-9A-Za-z \\t])|(\\w+:\\/\\/\\S+)\", \" \", tweet).split())\n",
        "\n",
        "def analize_sentiment(tweet):\n",
        "    '''\n",
        "    Utility function to classify the polarity of a tweet\n",
        "    using textblob.\n",
        "    '''\n",
        "    analysis = TextBlob(clean_tweet(tweet))\n",
        "    if analysis.sentiment.polarity > 0:\n",
        "        return 1\n",
        "    elif analysis.sentiment.polarity == 0:\n",
        "        return 0\n",
        "    else:\n",
        "        return -1"
      ],
      "execution_count": 25,
      "outputs": []
    },
    {
      "cell_type": "code",
      "metadata": {
        "colab": {
          "base_uri": "https://localhost:8080/",
          "height": 363
        },
        "id": "6U5Y46BsStxq",
        "outputId": "462e7cd7-724d-40f4-e988-aa195a7b240f"
      },
      "source": [
        "# We create a column with the result of the analysis:\n",
        "data['SA'] = np.array([ analize_sentiment(tweet) for tweet in data['Tweets'] ])\n",
        "\n",
        "# We display the updated dataframe with the new column:\n",
        "display(data.head(10))"
      ],
      "execution_count": 26,
      "outputs": [
        {
          "output_type": "display_data",
          "data": {
            "text/html": [
              "<div>\n",
              "<style scoped>\n",
              "    .dataframe tbody tr th:only-of-type {\n",
              "        vertical-align: middle;\n",
              "    }\n",
              "\n",
              "    .dataframe tbody tr th {\n",
              "        vertical-align: top;\n",
              "    }\n",
              "\n",
              "    .dataframe thead th {\n",
              "        text-align: right;\n",
              "    }\n",
              "</style>\n",
              "<table border=\"1\" class=\"dataframe\">\n",
              "  <thead>\n",
              "    <tr style=\"text-align: right;\">\n",
              "      <th></th>\n",
              "      <th>Tweets</th>\n",
              "      <th>len</th>\n",
              "      <th>ID</th>\n",
              "      <th>Date</th>\n",
              "      <th>Source</th>\n",
              "      <th>Likes</th>\n",
              "      <th>RTs</th>\n",
              "      <th>SA</th>\n",
              "    </tr>\n",
              "  </thead>\n",
              "  <tbody>\n",
              "    <tr>\n",
              "      <th>0</th>\n",
              "      <td>#JoeBiden is so slow it takes him an hour and ...</td>\n",
              "      <td>96</td>\n",
              "      <td>1409317468078854145</td>\n",
              "      <td>2021-06-28 01:07:22</td>\n",
              "      <td>Twitter Web App</td>\n",
              "      <td>0</td>\n",
              "      <td>0</td>\n",
              "      <td>-1</td>\n",
              "    </tr>\n",
              "    <tr>\n",
              "      <th>1</th>\n",
              "      <td>Just here to bang t-shirt\\nAvailable on Amazon...</td>\n",
              "      <td>137</td>\n",
              "      <td>1409317283093168130</td>\n",
              "      <td>2021-06-28 01:06:38</td>\n",
              "      <td>Twitter for Android</td>\n",
              "      <td>1</td>\n",
              "      <td>0</td>\n",
              "      <td>1</td>\n",
              "    </tr>\n",
              "    <tr>\n",
              "      <th>2</th>\n",
              "      <td>RT @andykupf: Biden’s gotten more than his fai...</td>\n",
              "      <td>139</td>\n",
              "      <td>1409316489396690946</td>\n",
              "      <td>2021-06-28 01:03:29</td>\n",
              "      <td>Twitter for iPad</td>\n",
              "      <td>0</td>\n",
              "      <td>27</td>\n",
              "      <td>1</td>\n",
              "    </tr>\n",
              "    <tr>\n",
              "      <th>3</th>\n",
              "      <td>RT @DrEstella: .@POTUS @JoeBiden #JoeBiden hah...</td>\n",
              "      <td>139</td>\n",
              "      <td>1409316400062205954</td>\n",
              "      <td>2021-06-28 01:03:08</td>\n",
              "      <td>Twitter for Android</td>\n",
              "      <td>0</td>\n",
              "      <td>23</td>\n",
              "      <td>1</td>\n",
              "    </tr>\n",
              "    <tr>\n",
              "      <th>4</th>\n",
              "      <td>RT @andykupf: Biden’s gotten more than his fai...</td>\n",
              "      <td>139</td>\n",
              "      <td>1409316187767513094</td>\n",
              "      <td>2021-06-28 01:02:17</td>\n",
              "      <td>Twitter for Android</td>\n",
              "      <td>0</td>\n",
              "      <td>27</td>\n",
              "      <td>1</td>\n",
              "    </tr>\n",
              "    <tr>\n",
              "      <th>5</th>\n",
              "      <td>RT @Antonio78158191: Que pronto sustituyó #Joe...</td>\n",
              "      <td>95</td>\n",
              "      <td>1409315664356065285</td>\n",
              "      <td>2021-06-28 01:00:12</td>\n",
              "      <td>Twitter for Android</td>\n",
              "      <td>0</td>\n",
              "      <td>63</td>\n",
              "      <td>0</td>\n",
              "    </tr>\n",
              "    <tr>\n",
              "      <th>6</th>\n",
              "      <td>RT @casalsbate: El hombre empezó a calentar lo...</td>\n",
              "      <td>140</td>\n",
              "      <td>1409315417336823808</td>\n",
              "      <td>2021-06-28 00:59:13</td>\n",
              "      <td>Twitter for Android</td>\n",
              "      <td>0</td>\n",
              "      <td>29</td>\n",
              "      <td>0</td>\n",
              "    </tr>\n",
              "    <tr>\n",
              "      <th>7</th>\n",
              "      <td>#JoeBiden is #Pro_Human_Rights\\nJoe Biden warn...</td>\n",
              "      <td>139</td>\n",
              "      <td>1409314469990256641</td>\n",
              "      <td>2021-06-28 00:55:28</td>\n",
              "      <td>Twitter Web App</td>\n",
              "      <td>1</td>\n",
              "      <td>0</td>\n",
              "      <td>1</td>\n",
              "    </tr>\n",
              "    <tr>\n",
              "      <th>8</th>\n",
              "      <td>RT @andykupf: Biden’s gotten more than his fai...</td>\n",
              "      <td>139</td>\n",
              "      <td>1409313915805306883</td>\n",
              "      <td>2021-06-28 00:53:15</td>\n",
              "      <td>Twitter for iPad</td>\n",
              "      <td>0</td>\n",
              "      <td>27</td>\n",
              "      <td>1</td>\n",
              "    </tr>\n",
              "    <tr>\n",
              "      <th>9</th>\n",
              "      <td>RT @ayfaraho: الرئيس المقبل للولايات المتحدة ا...</td>\n",
              "      <td>139</td>\n",
              "      <td>1409313052416167938</td>\n",
              "      <td>2021-06-28 00:49:50</td>\n",
              "      <td>Twitter Web App</td>\n",
              "      <td>0</td>\n",
              "      <td>2060</td>\n",
              "      <td>0</td>\n",
              "    </tr>\n",
              "  </tbody>\n",
              "</table>\n",
              "</div>"
            ],
            "text/plain": [
              "                                              Tweets  len  ...   RTs SA\n",
              "0  #JoeBiden is so slow it takes him an hour and ...   96  ...     0 -1\n",
              "1  Just here to bang t-shirt\\nAvailable on Amazon...  137  ...     0  1\n",
              "2  RT @andykupf: Biden’s gotten more than his fai...  139  ...    27  1\n",
              "3  RT @DrEstella: .@POTUS @JoeBiden #JoeBiden hah...  139  ...    23  1\n",
              "4  RT @andykupf: Biden’s gotten more than his fai...  139  ...    27  1\n",
              "5  RT @Antonio78158191: Que pronto sustituyó #Joe...   95  ...    63  0\n",
              "6  RT @casalsbate: El hombre empezó a calentar lo...  140  ...    29  0\n",
              "7  #JoeBiden is #Pro_Human_Rights\\nJoe Biden warn...  139  ...     0  1\n",
              "8  RT @andykupf: Biden’s gotten more than his fai...  139  ...    27  1\n",
              "9  RT @ayfaraho: الرئيس المقبل للولايات المتحدة ا...  139  ...  2060  0\n",
              "\n",
              "[10 rows x 8 columns]"
            ]
          },
          "metadata": {
            "tags": []
          }
        }
      ]
    },
    {
      "cell_type": "code",
      "metadata": {
        "id": "Mj_MNPMJS1FM"
      },
      "source": [
        "# We construct lists with classified tweets:\n",
        "\n",
        "pos_tweets = [ tweet for index, tweet in enumerate(data['Tweets']) if data['SA'][index] > 0]\n",
        "neu_tweets = [ tweet for index, tweet in enumerate(data['Tweets']) if data['SA'][index] == 0]\n",
        "neg_tweets = [ tweet for index, tweet in enumerate(data['Tweets']) if data['SA'][index] < 0]"
      ],
      "execution_count": 27,
      "outputs": []
    },
    {
      "cell_type": "code",
      "metadata": {
        "colab": {
          "base_uri": "https://localhost:8080/"
        },
        "id": "rAxqjXy0S5hA",
        "outputId": "e7189baa-1888-4af1-c6a6-709655069e2c"
      },
      "source": [
        "# We print percentages:\n",
        "\n",
        "print(\"Percentage of positive tweets: {}%\".format(len(pos_tweets)*100/len(data['Tweets'])))\n",
        "print(\"Percentage of neutral tweets: {}%\".format(len(neu_tweets)*100/len(data['Tweets'])))\n",
        "print(\"Percentage de negative tweets: {}%\".format(len(neg_tweets)*100/len(data['Tweets'])))"
      ],
      "execution_count": 28,
      "outputs": [
        {
          "output_type": "stream",
          "text": [
            "Percentage of positive tweets: 23.12075388998466%\n",
            "Percentage of neutral tweets: 62.70728322010373%\n",
            "Percentage de negative tweets: 14.171962889911608%\n"
          ],
          "name": "stdout"
        }
      ]
    }
  ]
}